{
 "cells": [
  {
   "cell_type": "code",
   "execution_count": 2,
   "id": "cbda3944-639d-44af-a86d-f743481bd224",
   "metadata": {},
   "outputs": [],
   "source": [
    "from openai import OpenAI  # no api key for now"
   ]
  },
  {
   "cell_type": "code",
   "execution_count": 3,
   "id": "5157204e-64f3-49a6-9ccb-880a4ce2c9ce",
   "metadata": {},
   "outputs": [
    {
     "name": "stdout",
     "output_type": "stream",
     "text": [
      "--2024-08-29 12:21:38--  https://raw.githubusercontent.com/alexeygrigorev/minsearch/main/minsearch.py\n",
      "Resolving raw.githubusercontent.com (raw.githubusercontent.com)... 185.199.109.133, 185.199.108.133, 185.199.110.133, ...\n",
      "Connecting to raw.githubusercontent.com (raw.githubusercontent.com)|185.199.109.133|:443... connected.\n",
      "HTTP request sent, awaiting response... 200 OK\n",
      "Length: 3832 (3.7K) [text/plain]\n",
      "Saving to: ‘minsearch.py’\n",
      "\n",
      "minsearch.py        100%[===================>]   3.74K  --.-KB/s    in 0.001s  \n",
      "\n",
      "2024-08-29 12:21:38 (6.12 MB/s) - ‘minsearch.py’ saved [3832/3832]\n",
      "\n"
     ]
    }
   ],
   "source": [
    "!wget https://raw.githubusercontent.com/alexeygrigorev/minsearch/main/minsearch.py"
   ]
  },
  {
   "cell_type": "code",
   "execution_count": 5,
   "id": "57cb1c7b-8619-4633-9136-12d97cc49dae",
   "metadata": {},
   "outputs": [],
   "source": [
    "import minsearch"
   ]
  },
  {
   "cell_type": "code",
   "execution_count": 20,
   "id": "cfe6b140-31f9-4354-b7e7-49bf7a2e7d7a",
   "metadata": {},
   "outputs": [
    {
     "data": {
      "text/plain": [
       "[{'instruction': 'Pourquoi des campagnes de phishing sont organisées par le groupe ?',\n",
       "  'input': nan,\n",
       "  'output': 'L’objectif des campagnes n’est pas de piéger les collaborateurs, mais bien de vérifier leur degré de vigilance par rapport à la menace d’attaques cyber. Le résultat de ces campagnes nous permettent également \\xa0d’évaluer quels sont les scenario qui marchent le mieux, ce qui nous permet d’orienter notre sensibilisation.'},\n",
       " {'instruction': 'Est-ce qu’elles sont effectuées sur une base régulière ?',\n",
       "  'input': nan,\n",
       "  'output': 'Les campagnes de phishing sont régulières mais pas à une fréquence fixe (chaque trimestre, chaque mois…). On peut en avoir une deux mois après la précédente, comme une semaine ou un mois. Un certain nombre sont prévues dans l’année. Elles sont réparties de manière arbitraire.'},\n",
       " {'instruction': 'Qu’est-ce qu’un « serial clicker » ?',\n",
       "  'input': nan,\n",
       "  'output': 'Est considéré comme « serial clicker » tout collaborateur qui dans les 6 dernières campagnes de phishing organisée ont au moins cliqué 3 fois. Ce statut n’est pas conservé à vie. Le collaborateur perd ce statut dès lors que sur les 6 dernières campagnes, ses statistiques descendent en dessous de 3 clicks.'},\n",
       " {'instruction': 'Qu’est-ce que la formation de rattrapage ?',\n",
       "  'input': nan,\n",
       "  'output': 'La formation de rattrapage est une formation à laquelle sont inscrits les «\\xa0serial clicker\\xa0» de manière automatique.\\xa0Ils ont un mois pour réaliser cette formation qui est obligatoire.'},\n",
       " {'instruction': 'Pourquoi la formation est obligatoire ?',\n",
       "  'input': nan,\n",
       "  'output': 'La formation cyber sécurité est obligatoire parce qu’au sein du groupe VICAT la sécurité des systèmes informatique est primordiale dans un monde connecté. Les conséquences d’une faille exploitée peuvent être terrible pour le groupe. Arrêt de la production, des livraisons, mais aussi détournement de fonds, vol de données personnelles et confidentielles.\\n\\nDans un tel contexte, le caractère obligatoire ne se pose pas vraiment : Le groupe doit s’assurer que tous les collaborateurs connectés à leurs systèmes informatiques ont un socle de connaissance minimum commun. Et ce socle est fourni à travers cette formation.'},\n",
       " {'instruction': 'Quelle est la durée de la formation obligatoire et pourquoi en distanciel ?',\n",
       "  'input': nan,\n",
       "  'output': 'La formation obligatoire dure environ 1H30. C’est le choix qui a été fait à ce stade. La durée est plus courte que celle de 2022 (qui faisait 3H) et ce choix a été fait pour éviter d’effectuer une formation en présentiel qui s’étalerait sur toute une journée.'},\n",
       " {'instruction': 'Je n’ai jamais le temps d’effectuer la formation, car elle est beaucoup trop longue et je n’ai jamais assez de temps libre pour pouvoir la faire. Comment puis-je concilier au mieux mon agenda chargé avec cette obligation de formation même si je comprends bien les enjeux ?',\n",
       "  'input': nan,\n",
       "  'output': 'La formation dure 1H30 dans son intégralité. Les collaborateurs ont tendance à faire l’erreur de vouloir la faire d’un coup, parfois même dans des mauvaises conditions où ils sont sollicités constamment. Et forcément cela ne peut que poser problème, car il est rare d’avoir autant de temps de disponible sans être dérangé. C’est pourquoi cette formation est composée de 10 modules de 10 minutes chacun. Les collaborateurs sont encouragés à faire la formation à leur rythme, et faire un module quand ils peuvent. Avant prise de leurs postes le matin, entre midi et deux ou quand ils arrivent à avoir 10 minutes de disponibilités. Même un module par semaine (10 minutes à trouver sur une semaine complète) permettrait de faire la formation en moins de 3 mois.'},\n",
       " {'instruction': 'Je reçois un mail mais je ne suis pas sûr qu’il soit frauduleux, que dois-je faire ? A qui m’adresser ?',\n",
       "  'input': nan,\n",
       "  'output': 'Il faut transférer votre mail au service cyber sécurité à l’adresse email suivante :\\n\\nsecurity@vicat.com\\n\\nEn cas d’urgence vous pouvez essayer de solliciter un des membres de l’équipes cyber. Dans ce cas, vous pouvez contacter en premier lieu Alexandre ALIAGA sur TEAMS sinon Benjamin FINO.\\n\\nEvitez de contacter le support, car ce dernier ne fait que passe-plat en nous transférant votre mail,  rallongeant ainsi le délai de réponse.'},\n",
       " {'instruction': 'J’ai reçu un mail, j’ai cliqué dessus ou j’ai communiqué mes identifiants qui dois-je prévenir ?',\n",
       "  'input': nan,\n",
       "  'output': 'La réactivité est la clef ici : Contactez en urgence d’abord Alexandre ALIAGA, puis Benjamin FINO.\\n\\nDans l’hypothèse où vous avez entré vos identifiants, un des premiers réflexes est de changer votre mot de passe dans les délais le plus brefs, , sans même avoir à attendre de joindre l’équipe cyber sécurité. (c’est ce qui vous sera demandé tout le temps dans ce genre de cas de toute façon)'},\n",
       " {'instruction': 'Pourquoi est-ce important de signaler les mails frauduleux au service cyber sécurité même si vous n’avez pas de doute ?',\n",
       "  'input': nan,\n",
       "  'output': 'Un collaborateur peut penser que ca ne sert à rien de signaler un mail qui est évidemment frauduleux pour lui. Signaler un mail cela permet d’attirer l’attention du service cyber. Si certaines attaques sont sophistiquées, le service cyber pourra mener des investigations plus poussées, si beaucoup d’interlocuteurs signalent le même mail, cela permettra au service de voir si c’est une attaque de masse, ciblée sur une société ou catégorie de personnes.'},\n",
       " {'instruction': 'Quelle est la politique du groupe en matière de périphériques amovibles USB (CD ROM, clés USB, disque dur…) ?',\n",
       "  'input': nan,\n",
       "  'output': 'Comme stipulée dans la charte d’utilisation des moyens informatiques et des outils numériques (dernière mise à jour 03/2023) en sa partie 2 : « Il est interdit d’utiliser des clefs USB ou tout autre support de stockage amovible.'},\n",
       " {'instruction': 'Que dois-je faire si je trouve une clef usb d’origine inconnue sur mon bureau ? Sur le parking ?',\n",
       "  'input': nan,\n",
       "  'output': 'Ramenez cette clef ou ce périphérique de stockage amovible au service cyber sécurité, qui pourra déterminer la dangerosité éventuelle de ce périphérique.'},\n",
       " {'instruction': 'Un tiers vient me voir et souhaite me transmettre un fichier volumineux qu’il ne peut m’envoyer par mail, et qu’il a sur sa clef USB…',\n",
       "  'input': nan,\n",
       "  'output': 'Dans ce cas, le TIERS devra utiliser une station blanche qui permettra de transmettre les fichiers voulus par le réseau. L’objectif est de ne plus connecter un périphérique USB directement sur du matériel VICAT.\\n\\nSi vous devez transmettre un fichier volumineux  votre coté à un tiers, la meilleure pratique est de partager un lien onedrive. Idéalement en prévenant votre interlocuteur de l’envoi d’un tel lien qu’il puisse cliquer dessus sans se poser la question de savoir si votre lien n’est pas une tentative de phishing.\\n\\nSi vous êtes sur TEAMs vous pouvez partager le fichier directement dans la conversation.'},\n",
       " {'instruction': 'Je souhaite bloquer un expéditeur…',\n",
       "  'input': nan,\n",
       "  'output': 'Vous ne voulez plus recevoir de mail d’un expéditeur particulier vous avez la procédure suivante :\\n\\nVicaTogether - OUTLOOK - Bloquer un expéditeur.pdf - Tous les documents (sharepoint.com) : https://vicatgroup.sharepoint.com/sites/WW_VicaTogether/Shared%20Documents/Forms/AllItems.aspx?id=/sites/WW_VicaTogether/Shared%20Documents/Training%20resources/User%20Guides/04.%20Outlook/FR/OUTLOOK%20-%20Bloquer%20un%20exp%C3%A9diteur.pdf&parent=/sites/WW_VicaTogether/Shared%20Documents/Training%20resources/User%20Guides/04.%20Outlook/FR'},\n",
       " {'instruction': 'Je souhaite signaler un mail comme SPAM ou phishing...',\n",
       "  'input': nan,\n",
       "  'output': 'On distingue deux cas.\\n\\na/Si vous n’avez pas de doute sur le fait que ce soit un SPAM ou un phishing, vous pouvez la signaler avec le bouton Microsoft. La procédure est expliquée ici et ca ne prends pas plus de 3 secs :\\n\\nVicaTogether - OUTLOOK - signaler un message.pdf - Tous les documents (sharepoint.com):  https://vicatgroup.sharepoint.com/sites/WW_VicaTogether/Shared%20Documents/Forms/AllItems.aspx?id=/sites/WW_VicaTogether/Shared%20Documents/Training%20resources/User%20Guides/04.%20Outlook/FR/OUTLOOK%20-%20Bloquer%20un%20exp%C3%A9diteur.pdf&parent=/sites/WW_VicaTogether/Shared%20Documents/Training%20resources/User%20Guides/04.%20Outlook/FR\\n\\nb/Si par contre vous avez un doute ou que vous vouliez avoir un retour, transférez votre mail au service Cyber sécurité security@vicat.com en leur faisant part de vos questions. Ils vous répondront en vous disant ce qu’il en est sur la légitimité du mail en question'},\n",
       " {'instruction': 'As-tu des conseils de cybersécurité à me donner ?',\n",
       "  'input': nan,\n",
       "  'output': 'Oui bien sûr en voici quelques-uns : Séparation des outils professionnels et personnels.\\n\\nPas d’installation de programmes extérieurs sur l’ordinateur professionnel.\\n\\nPas de branchement de clef usb sans avoir consulté le service cyber sécurité avant.\\n\\nJe ferme ma session si je ne suis pas devant mon ordinateur avec le raccourci touche windows +L'},\n",
       " {'instruction': \"c'est quoi un spam ?\",\n",
       "  'input': nan,\n",
       "  'output': 'Le SPAM (Pourriel) : Ce sont les publicités non sollicitées. Pas dangereux en soi mais atteint la productivité du collaborateur car il doit effectuer un nettoyage constant et régulier sinon ils encombrent les boites aux lettres inutilement et prennent de l’espace disque. Si vous souhaitez bloquer un expéditeur voici comment faire : On distingue deux cas.\\n\\na/Si vous n’avez pas de doute sur le fait que ce soit un SPAM ou un phishing, vous pouvez la signaler avec le bouton Microsoft. La procédure est expliquée ici et ca ne prends pas plus de 3 secs :\\n\\nVicaTogether - OUTLOOK - signaler un message.pdf - Tous les documents (sharepoint.com):  https://vicatgroup.sharepoint.com/sites/WW_VicaTogether/Shared%20Documents/Forms/AllItems.aspx?id=/sites/WW_VicaTogether/Shared%20Documents/Training%20resources/User%20Guides/04.%20Outlook/FR/OUTLOOK%20-%20Bloquer%20un%20exp%C3%A9diteur.pdf&parent=/sites/WW_VicaTogether/Shared%20Documents/Training%20resources/User%20Guides/04.%20Outlook/FR\\n\\nb/Si par contre vous avez un doute ou que vous vouliez avoir un retour, transférez votre mail au service Cyber sécurité security@vicat.com en leur faisant part de vos questions. Ils vous répondront en vous disant ce qu’il en est sur la légitimité du mail en question'},\n",
       " {'instruction': \"J'ai un doute sur un mail ou un message reçu. Que dois-je faire ?\",\n",
       "  'input': nan,\n",
       "  'output': 'Si vous avez un doute ou que vous vouliez avoir un retour, transférez votre mail au service Cyber sécurité (security@vicat.com) en leur faisant part de vos questions. Ils vous répondront en vous disant ce qu’il en est sur la légitimité du mail en question.'},\n",
       " {'instruction': \"c'est quoi un scam ?\",\n",
       "  'input': nan,\n",
       "  'output': 'Un SCAM est une escroquerie, le cas typique d’une personne qui a reçu un héritage d’un proche et qui est prêt à vous en donner une partie si vous l’aidez à débloquer sa situation.'},\n",
       " {'instruction': \"C'est quoi le phishing ?\",\n",
       "  'input': nan,\n",
       "  'output': 'Le phishing est un message qui a pour but de récupérer vos identifiants en vous faisant cliquer sur un lien externe à la société en faisant croire que vous vous rendez sur un site légitime. Le phishing par mail  cumule une ou plusieurs conditions ci-dessous  :\\n\\nSituation d’urgence ou durée de validité très courte. \\nIl vous est demandé d’effectuer une action.\\nPrésence d’un lien internet sur lequel il va falloir cliquer.\\nDemande d’identifiant ou d’informations personnelles.'},\n",
       " {'instruction': \"C'est quoi un ransomwares ?\",\n",
       "  'input': nan,\n",
       "  'output': 'Un ransomwares est une sous-catégorie des malwares et ceux dont on parle le plus car très lucratifs pour les pirates alors que les dommages qu’ils peuvent causer peuvent être dramatiques.'},\n",
       " {'instruction': \"C'est quoi l'ingénierie sociale ?\",\n",
       "  'input': nan,\n",
       "  'output': 'L’ingénierie sociale est une  technique qui consiste à récupérer un maximum d’informations d’une personne sans qu’elle s’en rende compte. C’est souvent une technique utilisée en préalable d’une autre attaque (ex: fraude au Président…). Le téléphone est en général privilégié car plus efficace pour ce genre de démarche.'},\n",
       " {'instruction': \"J'ai un doute sur un mail que j'ai reçu\",\n",
       "  'input': nan,\n",
       "  'output': 'Si malgré vos vérifications, vous avez toujours un doute sur l’authenticité du mail :\\n\\nSi pas d’urgence : Contacter par mail security@vicat.com (et pas le mail du support !).\\nEviter ITOP (création de ticket cela revient à passer par le support)\\n\\nSi URGENCE : Faire le mail en précisant «\\xa0URGENT\\xa0» dans l’objet et essayez de contacter une des personnes de l’équipe cyber sécurité par TEAMS. Par défaut c’est en général Alexandre ALIAGA qui se chargera de répondre.'},\n",
       " {'instruction': 'donne moi des conseils concernant les mot de passes',\n",
       "  'input': nan,\n",
       "  'output': 'Oui bien sûr en voici quelques-uns : Complexité mot de passe (choisir un mot de passe qui n’est pas dans le dictionnaire)\\n\\nChanger les mots de passe par défaut (Bitlocker et 123456….)\\n\\nLes incrémentations (bonjour1, bonjour 2….)\\n\\nMot de passe unique (mail, banque, mot de passe maitre…)\\n\\n\\nAdopter la double authentification dès que possible'},\n",
       " {'instruction': \"C'est quoi un bad USB ou rubber ducky?\",\n",
       "  'input': nan,\n",
       "  'output': 'Le terme \"Bad USB\" se réfère à une technique d\\'attaque informatique qui exploite les périphériques USB pour compromettre un système informatique. Concrètement, un périphérique USB malveillant est modifié pour se faire passer pour un autre type de périphérique, comme un clavier ou une souris. Lorsque ce périphérique est branché sur un ordinateur, il peut exécuter des commandes préprogrammées, permettant à un attaquant d\\'accomplir diverses actions malveillantes sans que l\\'utilisateur en soit conscient.\\n\\nPour se protéger contre de telles attaques, il est important de ne pas brancher des périphériques USB non fiables ou inconnus sur votre ordinateur, de garder vos systèmes d\\'exploitation et logiciels à jour pour bénéficier des dernières mises à jour de sécurité, et d\\'utiliser des solutions de sécurité informatique fiables pour détecter et bloquer les menaces potentielles.'},\n",
       " {'instruction': 'Comment reconnaitre un mail malveillant ?',\n",
       "  'input': nan,\n",
       "  'output': \"Connaissez vous votre interlocuteur ? Et malgré cela, le contenu du mail vous parait-il étrange ? : l'interlocuteur vous tutoie alors qu’il ne le fait jamais, il fait des fautes de fautes de frappes /d’orthographe, le mail est en anglais alors que la personne qui s’adresse à vous est francophone…..\\n\\nLe sujet du mail vous parle t’il ?\\n\\nY a-t-il une urgence ou un délai très court de régularisation ? Si oui est-ce justifié ?\\n\\nOui bien sûr en voici une liste qui pourrait vous aider : L’attachement qui est fourni est-ce un fichier sous format exe ? En pdf ? Excel ? Zip ?\\n\\nVous demande t on de cliquer sur un lien  ? Va t-on vous demander de vous identifier avec votre login et mot de passe ?\"},\n",
       " {'instruction': 'peut-on utiliser chatGPT ?',\n",
       "  'input': nan,\n",
       "  'output': \"Oui, il est autorisé d'utiliser chatGPT.\\nCependant il faut faire attention pendant son utilisation :\\nNe pas divulguer d’informations sensibles ou confidentielles.\\nNe pas divulguer d’informations nominatives.\\nLimites technologiques : Le modèle d’IA est entrainé sur des données dont on ne connait pas les biais.\\nChatGPT est entrainé sur des jeux de données qui ont une limite de date. Toutes les informations qui sont postérieures ne sont pas incluses dans les réponses sauf à ce que l’IA soit connectée sur internet en temps réel.\\nVérification à minima des réponses : L’IA peut parfois donner des réponses erronées avec une argumentation basée sur des faits ou informations qui n’existent pas. Ce sont les hallucinations.\"},\n",
       " {'instruction': 'Mon ordinateur  à été volé',\n",
       "  'input': nan,\n",
       "  'output': 'Pas de panique, voici une procédure qui vous permettra de savoir ce que vous avez a faire en cas de vol de votre ordinateur de fonction :\\n\\n1/ déposez plainte contre le voleur (vous transférerez la plainte au support dans les prochaines étapes).\\n\\n2/ rapportez l’incident au support, et ajoutez-y la plainte que vous avez faite au voleur,\\n\\n3/ faire parvenir une nouvelle dotation de matérielle auprès du support pour avoir un nouveau ordinateur.\\n\\nNote : toutes les données stockés sur l’ordinateur seront éffacés.'},\n",
       " {'instruction': 'Mon téléphone à été volé',\n",
       "  'input': nan,\n",
       "  'output': 'Pas de panique, oici une procédure qui vous aidera dans votre démarche, pour avoir un nouveau téléphone de fonction en cas de vol.\\n\\n1/ Portez plainte et ramenez le justificatif de plainte au support,\\n\\n2/ alertez le support le plus vite possible, en y ajoutant le justificatif de plainte.\\n\\n3/ faite une dotation de matérielle auprès du support pour avoir un nouveau téléphone.\\n\\nNote : si le support n’est pas ouvert vous pouvez déjà porter plainte, et ensuite aller au support dès qu’il ouvrira, vos données de votre espace professionnel et personnel seront tout deux éffacés.'},\n",
       " {'instruction': \"Quels sont les problèmes majeurs liés à l'utilisation du même compte OneDrive pour des besoins personnels et professionnels?\",\n",
       "  'input': nan,\n",
       "  'output': \"Utiliser le même compte OneDrive à la fois pour des besoins personnels et professionnels peut poser plusieurs problèmes majeurs :\\\\n\\\\n1. Confidentialité des données : Les données personnelles et professionnelles peuvent être mélangées, compromettant ainsi la confidentialité. Des informations sensibles de l'entreprise pourraient être accidentellement partagées ou accessibles à des personnes non autorisées.\\\\n\\\\n2. Gestion des droits d'accès : Les autorisations d'accès aux fichiers peuvent être difficiles à gérer. Vous pourriez partager des fichiers personnels avec des collègues par inadvertance ou ne pas partager correctement des fichiers professionnels avec les membres de votre équipe.\\\\n\\\\n3. Politique de l'entreprise : De nombreuses entreprises ont des politiques strictes en matière de stockage et de partage de données. L'utilisation d'un compte personnel pour stocker des données professionnelles peut contrevenir à ces politiques et entraîner des problèmes de conformité.\\\\n\\\\n4. Gestion de l'espace de stockage : Si vous utilisez le même compte pour le travail et les loisirs, il peut être difficile de gérer efficacement l'espace de stockage. Les fichiers personnels peuvent remplir l'espace qui devrait être consacré aux fichiers professionnels, entraînant des problèmes de stockage et de performance.\\\\n\\\\n5. Synchronisation des appareils : Lorsque vous synchronisez des appareils avec le même compte OneDrive, vous risquez de mélanger des données personnelles et professionnelles sur plusieurs appareils, ce qui peut être source de confusion et de désorganisation.\"},\n",
       " {'instruction': 'Je veux envoyé un gros fichier sur onedrive',\n",
       "  'input': nan,\n",
       "  'output': 'Il est possible que vous ayez besoins d’envoyer des gros fichiers sur OneDrive afin d’optimiser la place utilisé il est préférable d’envoyer les fichiers en utilisant des liens cela aura pour effet de prendre beaucoup moins de places si vous l’envoyez a plusieurs personnes.'},\n",
       " {'instruction': \"Pourquoi est-il recommandé d'utiliser des comptes distincts pour les besoins personnels et professionnels sur OneDrive?\",\n",
       "  'input': nan,\n",
       "  'output': \"Il est recommandé d'utiliser des comptes distincts pour les besoins personnels et professionnels sur OneDrive pour éviter les problèmes suivants :\\\\n\\\\n1. Confidentialité des données : En séparant les comptes, les données personnelles et professionnelles ne se mélangent pas, ce qui préserve la confidentialité des informations sensibles.\\\\n\\\\n2. Gestion des droits d'accès : Vous pouvez gérer plus facilement les autorisations d'accès aux fichiers en séparant les comptes, évitant ainsi de partager des fichiers personnels par inadvertance avec des collègues ou de mal partager des fichiers professionnels.\\\\n\\\\n3. Politique de l'entreprise : En utilisant un compte professionnel distinct, vous respectez les politiques de l'entreprise en matière de stockage et de partage de données, évitant ainsi les problèmes de conformité.\\\\n\\\\n4. Gestion de l'espace de stockage : En séparant les comptes, vous pouvez mieux gérer l'espace de stockage dédié à chaque type de fichiers, évitant que les fichiers personnels n'encombrent l'espace réservé aux fichiers professionnels.\\\\n\\\\n5. Synchronisation des appareils : La synchronisation des appareils est plus organisée et moins sujette à la confusion lorsque les données personnelles et professionnelles sont séparées sur des comptes différents.\"},\n",
       " {'instruction': \"Que peut-on faire pour optimiser l'utilisation de l'espace de stockage sur OneDrive lorsqu'on envoie de gros fichiers?\",\n",
       "  'input': nan,\n",
       "  'output': \"Pour optimiser l'utilisation de l'espace de stockage sur OneDrive lorsqu'on envoie de gros fichiers, il est préférable d'envoyer les fichiers en utilisant des liens de partage plutôt que de les envoyer directement. Cela permet de prendre beaucoup moins de place, surtout si vous envoyez ces fichiers à plusieurs personnes.\"},\n",
       " {'instruction': 'Quels risques peut-on encourir en utilisant un compte personnel pour stocker des données professionnelles?',\n",
       "  'input': nan,\n",
       "  'output': \"Les risques encourus en utilisant un compte personnel pour stocker des données professionnelles incluent :\\\\n\\\\n1. Compromission de la confidentialité : Les données professionnelles pourraient être mélangées avec des données personnelles, ce qui pourrait compromettre la confidentialité des informations sensibles de l'entreprise.\\\\n\\\\n2. Mauvaise gestion des droits d'accès : Il peut être difficile de gérer correctement les autorisations d'accès, ce qui pourrait entraîner le partage accidentel de fichiers personnels avec des collègues ou le non-partage adéquat de fichiers professionnels.\\\\n\\\\n3. Violation de la politique de l'entreprise : Utiliser un compte personnel pour des données professionnelles peut contrevenir aux politiques strictes de l'entreprise en matière de stockage et de partage de données, entraînant des problèmes de conformité.\\\\n\\\\n4. Problèmes de stockage : Les fichiers personnels peuvent remplir l'espace de stockage qui devrait être réservé aux fichiers professionnels, entraînant des problèmes de gestion de l'espace et de performance.\\\\n\\\\n5. Confusion et désorganisation : La synchronisation des appareils avec un seul compte peut mélanger des données personnelles et professionnelles, ce qui peut causer de la confusion et de la désorganisation.\"},\n",
       " {'instruction': 'Quels avantages offrent les solutions de stockage cloud spécialement conçues pour les entreprises?',\n",
       "  'input': nan,\n",
       "  'output': \"Les solutions de stockage cloud spécialement conçues pour les entreprises offrent plusieurs avantages, notamment :\\\\n\\\\n1. Sécurité avancée : Ces solutions offrent des fonctionnalités de sécurité avancées pour protéger les données sensibles de l'entreprise.\\\\n\\\\n2. Gestion des données : Elles permettent une gestion plus efficace des données, avec des outils pour organiser, partager et collaborer sur les fichiers de manière sécurisée.\\\\n\\\\n3. Conformité : Les solutions de stockage cloud pour entreprises aident à respecter les politiques de l'entreprise et les réglementations en matière de stockage et de partage de données.\\\\n\\\\n4. Espace de stockage dédié : Elles offrent un espace de stockage dédié aux besoins professionnels, évitant les problèmes de mélange avec des fichiers personnels.\\\\n\\\\n5. Synchronisation et collaboration : Elles facilitent la synchronisation et la collaboration entre les membres de l'équipe, avec des fonctionnalités spécifiques pour le travail en groupe et le partage de fichiers en temps réel.\"},\n",
       " {'instruction': \"Quels sont les risques liés à l'utilisation d'un compte professionnel pour consulter des horaires de voyage et les transférer à un compte personnel?\",\n",
       "  'input': nan,\n",
       "  'output': \"Utiliser un compte professionnel pour consulter des horaires de voyage et les transférer à un compte personnel n'est pas idéal, mais cela ne constitue pas une énorme faille de sécurité. Cependant, cela peut poser des problèmes de vie privée, car votre boîte personnelle ne devrait contenir aucune information sur votre travail et vice versa. Il est préférable d'éviter ce mélange pour préserver la confidentialité des informations.\"},\n",
       " {'instruction': 'Pourquoi est-il particulièrement risqué de transférer des courriels professionnels sur une boîte mail personnelle?',\n",
       "  'input': nan,\n",
       "  'output': \"Transférer des courriels professionnels sur une boîte mail personnelle est particulièrement risqué pour plusieurs raisons :\\\\n\\\\n1. Si votre boîte mail personnelle est piratée, l'individu aura accès aux données de l'entreprise, ce qui est extrêmement indésirable.\\\\n\\\\n2. Si vous consultez vos courriels professionnels sur une boîte personnelle en présence d'une personne extérieure, cette personne pourrait voir des documents confidentiels, compromettant ainsi la sécurité des informations de l'entreprise.\"},\n",
       " {'instruction': 'Quels sont les principaux problèmes de mélanger des communications professionnelles et personnelles dans une boîte mail?',\n",
       "  'input': nan,\n",
       "  'output': \"Les principaux problèmes de mélanger des communications professionnelles et personnelles dans une boîte mail sont :\\\\n\\\\n1. Confidentialité et Sécurité : Cela peut compromettre la confidentialité des données sensibles de l'entreprise et augmenter le risque de fuites d'informations. L'ouverture de courriels personnels sur un compte professionnel peut exposer l'entreprise à des risques de sécurité, tels que les attaques de phishing.\\\\n\\\\n2. Confusion et Productivité : Recevoir des courriels personnels pendant les heures de travail peut entraîner des distractions et réduire la productivité. Utiliser son compte professionnel pour des discussions personnelles peut entraîner une confusion quant aux priorités et aux responsabilités professionnelles.\\\\n\\\\n3. Violation des Politiques d'Entreprise : De nombreuses entreprises ont des politiques strictes régissant l'utilisation des outils de communication professionnels. Utiliser sa boîte mail professionnelle à des fins personnelles peut constituer une violation de ces politiques et entraîner des sanctions disciplinaires.\\\\n\\\\n4. Gestion des Données et de l'Espace de Stockage : Mélanger les courriels professionnels et personnels peut rendre la gestion des données plus difficile et augmenter l'encombrement de la boîte de réception, ce qui peut rendre la recherche d'informations importantes plus laborieuse.\\\\n\\\\n5. Image Professionnelle : Utiliser son compte professionnel pour des communications personnelles peut affecter l'image professionnelle de l'individu et de l'entreprise. Les courriels personnels peuvent contenir un langage informel ou des sujets inappropriés pour le lieu de travail, ce qui peut nuire à la réputation professionnelle.\"},\n",
       " {'instruction': \"Pourquoi est-il important de respecter les politiques d'utilisation des boîtes mail professionnelles en entreprise?\",\n",
       "  'input': nan,\n",
       "  'output': \"Il est important de respecter les politiques d'utilisation des boîtes mail professionnelles en entreprise pour plusieurs raisons :\\\\n\\\\n1. Sécurité des données : Les politiques sont conçues pour protéger les données sensibles de l'entreprise contre les fuites et les accès non autorisés.\\\\n\\\\n2. Conformité : Respecter les politiques d'utilisation garantit que vous restez en conformité avec les réglementations internes et externes, évitant ainsi les sanctions disciplinaires et les amendes.\\\\n\\\\n3. Productivité : Les politiques aident à maintenir la productivité en évitant les distractions liées à l'utilisation personnelle des outils de communication professionnels.\\\\n\\\\n4. Image professionnelle : En utilisant les outils de communication de manière appropriée, vous préservez l'image professionnelle de l'entreprise et la vôtre.\"},\n",
       " {'instruction': \"Quels sont les impacts possibles de mélanger des courriels professionnels et personnels sur la gestion des données et de l'espace de stockage?\",\n",
       "  'input': nan,\n",
       "  'output': \"Mélanger des courriels professionnels et personnels peut avoir plusieurs impacts négatifs sur la gestion des données et de l'espace de stockage :\\\\n\\\\n1. Encombrement de la boîte de réception : La présence de courriels personnels peut encombrer la boîte de réception professionnelle, rendant la recherche d'informations importantes plus difficile.\\\\n\\\\n2. Gestion inefficace des données : Mélanger les deux types de courriels complique la gestion des données, ce qui peut entraîner des erreurs et des pertes de temps.\\\\n\\\\n3. Performance réduite : Un encombrement excessif de la boîte de réception peut ralentir la performance des outils de messagerie, affectant ainsi l'efficacité du travail.\"},\n",
       " {'instruction': \"Pourquoi est-il crucial de ne pas mélanger les communications personnelles et professionnelles pour l'image professionnelle?\",\n",
       "  'input': nan,\n",
       "  'output': \"Il est crucial de ne pas mélanger les communications personnelles et professionnelles pour préserver l'image professionnelle pour plusieurs raisons :\\\\n\\\\n1. Langage et contenu : Les courriels personnels peuvent contenir un langage informel ou des sujets inappropriés pour le lieu de travail, ce qui peut nuire à votre réputation et à celle de l'entreprise.\\\\n\\\\n2. Professionnalisme : Utiliser des outils de communication professionnels de manière adéquate montre votre sérieux et votre respect pour les politiques de l'entreprise, renforçant ainsi votre image professionnelle.\\\\n\\\\n3. Perception externe : Des courriels professionnels mélangés avec des communications personnelles peuvent donner une mauvaise impression aux clients et aux partenaires, affectant la perception de l'entreprise.\"},\n",
       " {'instruction': 'Quelle responsabilité Vicat a-t-elle en cas de fuite de données de ses clients, fournisseurs ou collaborateurs?',\n",
       "  'input': nan,\n",
       "  'output': \"Vicat est responsable des fuites de données de ses clients, fournisseurs et collaborateurs. Cela signifie que si des données venaient à fuiter de quelque manière que ce soit, Vicat serait tenu responsable. Il est donc crucial pour les employés de respecter les politiques de sécurité des données et d'éviter de mélanger des informations professionnelles avec des comptes personnels pour prévenir les risques de fuite.\"},\n",
       " {'instruction': \"Quels sont les objectifs du guide de bonnes pratiques pour l'utilisation de ChatGPT?\",\n",
       "  'input': nan,\n",
       "  'output': \"Le guide de bonnes pratiques pour l'utilisation de ChatGPT a pour but de fournir des directives claires sur l'utilisation de ChatGPT afin de protéger les informations sensibles et de garantir la sécurité des données de l'entreprise.\"},\n",
       " {'instruction': 'Quelles informations personnelles identifiables (PII) ne doivent jamais être divulguées selon les directives de confidentialité des données?',\n",
       "  'input': nan,\n",
       "  'output': 'Les informations personnelles identifiables (PII) qui ne doivent jamais être divulguées incluent les noms, adresses, numéros de téléphone, adresses e-mail, ou toute autre information personnelle des employés, clients ou partenaires.'},\n",
       " {'instruction': 'Que devez-vous faire avant de soumettre un document à ChatGPT pour garantir la sécurité des documents?',\n",
       "  'input': nan,\n",
       "  'output': 'Avant de soumettre un document à ChatGPT, vous devez supprimer ou remplacer toute information sensible par des pseudonymes ou des données génériques pour garantir la sécurité des documents.'},\n",
       " {'instruction': \"Pourquoi est-il important de limiter l'accès aux outils d'IA aux employés autorisés?\",\n",
       "  'input': nan,\n",
       "  'output': \"Il est important de limiter l'accès aux outils d'IA aux employés autorisés pour garantir que seuls ceux qui sont formés à leur utilisation peuvent y accéder, réduisant ainsi les risques de mauvaise utilisation ou de fuite d'informations sensibles.\"},\n",
       " {'instruction': \"Quels sont les éléments clés de la formation et de la sensibilisation pour l'utilisation sécurisée de ChatGPT?\",\n",
       "  'input': nan,\n",
       "  'output': \"Les éléments clés de la formation et de la sensibilisation pour l'utilisation sécurisée de ChatGPT incluent l'organisation de sessions de formation régulières pour rappeler les bonnes pratiques et les mises à jour des politiques de sécurité, ainsi que s'assurer que tous les employés ont accès au guide de bonnes pratiques et comprennent son importance.\"},\n",
       " {'instruction': \"Quelles mesures d'audit et de surveillance doivent être mises en place pour utiliser ChatGPT de manière sécurisée?\",\n",
       "  'input': nan,\n",
       "  'output': \"Les mesures d'audit et de surveillance pour utiliser ChatGPT de manière sécurisée incluent la mise en place de systèmes pour enregistrer et surveiller les interactions avec ChatGPT, ainsi que la réalisation d'audits réguliers pour identifier et corriger toute utilisation inappropriée.\"},\n",
       " {'instruction': 'Quels types de questions et d’informations sont appropriés à discuter avec ChatGPT selon les politiques de communication?',\n",
       "  'input': nan,\n",
       "  'output': \"Selon les politiques de communication, les types de questions et d’informations appropriés à discuter avec ChatGPT incluent des demandes génériques comme aider à rédiger un e-mail pour informer l'équipe d'une réunion ou des éléments clés pour une stratégie marketing efficace. Il ne faut pas mentionner des projets confidentiels ou des informations financières sensibles.\"},\n",
       " {'instruction': \"Pouvez-vous donner un exemple de bonne pratique pour l'utilisation de ChatGPT?\",\n",
       "  'input': nan,\n",
       "  'output': \"Un exemple de bonne pratique pour l'utilisation de ChatGPT serait de demander : 'Pouvez-vous m'aider à rédiger un e-mail générique pour informer notre équipe de la réunion de lundi ?\"},\n",
       " {'instruction': \"Pouvez-vous donner un exemple de mauvaise pratique pour l'utilisation de ChatGPT?\",\n",
       "  'input': nan,\n",
       "  'output': \"Un exemple de mauvaise pratique pour l'utilisation de ChatGPT serait de demander : 'Notre projet confidentiel, [Nom du Projet], est en cours de développement et implique [Détails Sensibles].'\"},\n",
       " {'instruction': \"Qui doit être contacté en cas de questions ou de doutes concernant les protocoles d'utilisation de ChatGPT?\",\n",
       "  'input': nan,\n",
       "  'output': \"En cas de questions ou de doutes concernant les protocoles d'utilisation de ChatGPT, il faut contacter Alexandre ALIAGA sur TEAMS sinon Benjamin FINO.\"},\n",
       " {'instruction': \"J'ai un problème avec mon ordinateur.\",\n",
       "  'input': nan,\n",
       "  'output': \"Pour les problèmes informatiques qui ne concernent pas la cybersécurité, vous pouvez vous adresser au service support. Pour cela, vous devez vous rendre sur l'intranet (https://vicatgroup.sharepoint.com), puis cliquer sur le bouton 'iTOP : My Support'. La démarche à suivre sera expliquée en fonction de votre problème.\"},\n",
       " {'instruction': 'Qui est le RSSI chez Vicat ?',\n",
       "  'input': nan,\n",
       "  'output': \"Le Responsable Sécurité des Systèmes d'information (RSSI) chez Vicat est Didier montandon.\\nPour le contacter : didier.montandon@vicat.fr\"},\n",
       " {'instruction': 'Qui est Didier MONTANDON ?',\n",
       "  'input': nan,\n",
       "  'output': \"Didier MONTANDON est le Responsable Sécurité des Systèmes d'information (RSSI).\\nIL supervise la sécurité des informations, de la cybersécurité et de la technologie de l'entreprise\"},\n",
       " {'instruction': 'Qui est Benjamin FINO ?',\n",
       "  'input': nan,\n",
       "  'output': 'Benjamin FINO est le responsable SOC (centre opérationnel de sécurité) \\nLe responsable du Security Operation Center (SOC) planifie et organise les opérations quotidiennes du SOC afin d’évaluer les risques de vulnérabilité du système informatique et de détecter les potentielles attaques malveillantes.'},\n",
       " {'instruction': 'Qui est Alexandre ALAIGA ?',\n",
       "  'input': nan,\n",
       "  'output': 'Alexandre  ALIAGA est responsable de la sensibilisation des collaborateurs aux différents dangers liés à la cybersécurité (exemple : mails de phishing).\\nAlexandre fait aussi partie de la gestion de crise cyber.'}]"
      ]
     },
     "execution_count": 20,
     "metadata": {},
     "output_type": "execute_result"
    }
   ],
   "source": [
    "import json\n",
    "data_raw"
   ]
  },
  {
   "cell_type": "code",
   "execution_count": 12,
   "id": "9f41e416-18f6-438d-a232-29ab53e78a80",
   "metadata": {},
   "outputs": [],
   "source": [
    "with open('dataset.json', 'rt', encoding='utf-8-sig') as f_in:\n",
    "    data_raw = json.load(f_in)"
   ]
  },
  {
   "cell_type": "code",
   "execution_count": null,
   "id": "b47cad08-8aa5-417f-892c-9c70935500e1",
   "metadata": {},
   "outputs": [],
   "source": [
    "questions = []\n",
    "answers = []\n",
    "for data in data_raw:\n",
    "    questions.append(data['instruction'])\n",
    "    answers.append(data['output'])\n",
    "print(questions)\n",
    "print(answers)"
   ]
  },
  {
   "cell_type": "code",
   "execution_count": 25,
   "id": "4ead5ec5-530e-4906-812a-74d8f5f4ba81",
   "metadata": {},
   "outputs": [
    {
     "data": {
      "text/plain": [
       "<minsearch.Index at 0x7660e7bdd8b0>"
      ]
     },
     "execution_count": 25,
     "metadata": {},
     "output_type": "execute_result"
    }
   ],
   "source": [
    "index = minsearch.Index(\n",
    "    text_fields=[\"instruction\", \"output\"],\n",
    "    keyword_fields=[\"\"]\n",
    ")\n",
    "index.fit(data_raw)"
   ]
  },
  {
   "cell_type": "code",
   "execution_count": 28,
   "id": "7035e637-0975-4462-a0ef-66c034140758",
   "metadata": {},
   "outputs": [],
   "source": [
    "q = 'Qui est Didier MONTANDON?'"
   ]
  },
  {
   "cell_type": "code",
   "execution_count": 29,
   "id": "ef2418ee-f5e7-4271-9db7-8c9921922024",
   "metadata": {},
   "outputs": [],
   "source": [
    "boost = {'instruction': 2.0, 'output': 1.0}\n",
    "\n",
    "results = index.search(\n",
    "    query=q,\n",
    "    boost_dict=boost,\n",
    "    num_results=2\n",
    ")"
   ]
  },
  {
   "cell_type": "code",
   "execution_count": 30,
   "id": "105ad0ce-1171-4283-a3c1-8ec58b6cd919",
   "metadata": {},
   "outputs": [
    {
     "data": {
      "text/plain": [
       "[{'instruction': 'Qui est Didier MONTANDON ?',\n",
       "  'input': nan,\n",
       "  'output': \"Didier MONTANDON est le Responsable Sécurité des Systèmes d'information (RSSI).\\nIL supervise la sécurité des informations, de la cybersécurité et de la technologie de l'entreprise\"},\n",
       " {'instruction': 'Qui est le RSSI chez Vicat ?',\n",
       "  'input': nan,\n",
       "  'output': \"Le Responsable Sécurité des Systèmes d'information (RSSI) chez Vicat est Didier montandon.\\nPour le contacter : didier.montandon@vicat.fr\"}]"
      ]
     },
     "execution_count": 30,
     "metadata": {},
     "output_type": "execute_result"
    }
   ],
   "source": [
    "results"
   ]
  },
  {
   "cell_type": "code",
   "execution_count": null,
   "id": "f88292c4-de2b-4341-8954-d76bbc00aea1",
   "metadata": {},
   "outputs": [],
   "source": []
  }
 ],
 "metadata": {
  "kernelspec": {
   "display_name": "Python 3 (ipykernel)",
   "language": "python",
   "name": "python3"
  },
  "language_info": {
   "codemirror_mode": {
    "name": "ipython",
    "version": 3
   },
   "file_extension": ".py",
   "mimetype": "text/x-python",
   "name": "python",
   "nbconvert_exporter": "python",
   "pygments_lexer": "ipython3",
   "version": "3.12.1"
  }
 },
 "nbformat": 4,
 "nbformat_minor": 5
}
