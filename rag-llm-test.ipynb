{
 "cells": [
  {
   "cell_type": "code",
   "execution_count": 2,
   "id": "cbda3944-639d-44af-a86d-f743481bd224",
   "metadata": {},
   "outputs": [],
   "source": [
    "from openai import OpenAI  # no api key for now"
   ]
  },
  {
   "cell_type": "code",
   "execution_count": null,
   "id": "5157204e-64f3-49a6-9ccb-880a4ce2c9ce",
   "metadata": {},
   "outputs": [],
   "source": [
    "!wget https://raw.githubusercontent.com/alexeygrigorev/minsearch/main/minsearch.py"
   ]
  },
  {
   "cell_type": "code",
   "execution_count": 7,
   "id": "57cb1c7b-8619-4633-9136-12d97cc49dae",
   "metadata": {},
   "outputs": [],
   "source": [
    "import minsearch json "
   ]
  },
  {
   "cell_type": "code",
   "execution_count": 9,
   "id": "4ead5ec5-530e-4906-812a-74d8f5f4ba81",
   "metadata": {},
   "outputs": [],
   "source": [
    "with open('dataset.json', 'rt', encoding='utf-8-sig') as f_in:\n",
    "    data_raw = json.load(f_in)\n",
    "    \n",
    "def search_index():\n",
    "    index = minsearch.Index(\n",
    "        text_fields=[\"instruction\", \"output\"],\n",
    "        keyword_fields=[\"\"]\n",
    "    )\n",
    "    return index.fit(data_raw)\n",
    "    "
   ]
  },
  {
   "cell_type": "code",
   "execution_count": 22,
   "id": "f88292c4-de2b-4341-8954-d76bbc00aea1",
   "metadata": {},
   "outputs": [],
   "source": [
    "def search_query(question):\n",
    "    index = search_index()\n",
    "    boost = {'instruction': 2.0, 'output': 1.0}\n",
    "\n",
    "    results = index.search(\n",
    "        query=question,\n",
    "        boost_dict=boost,\n",
    "        num_results=2\n",
    "    )\n",
    "    return results"
   ]
  },
  {
   "cell_type": "code",
   "execution_count": 23,
   "id": "413afefc-ce53-489d-9e2a-4bfcb35adf4b",
   "metadata": {},
   "outputs": [
    {
     "data": {
      "text/plain": [
       "[{'instruction': 'Que dois-je faire si je trouve une clef usb d’origine inconnue sur mon bureau ? Sur le parking ?',\n",
       "  'input': nan,\n",
       "  'output': 'Ramenez cette clef ou ce périphérique de stockage amovible au service cyber sécurité, qui pourra déterminer la dangerosité éventuelle de ce périphérique.'},\n",
       " {'instruction': \"J'ai un doute sur un mail ou un message reçu. Que dois-je faire ?\",\n",
       "  'input': nan,\n",
       "  'output': 'Si vous avez un doute ou que vous vouliez avoir un retour, transférez votre mail au service Cyber sécurité (security@vicat.com) en leur faisant part de vos questions. Ils vous répondront en vous disant ce qu’il en est sur la légitimité du mail en question.'}]"
      ]
     },
     "execution_count": 23,
     "metadata": {},
     "output_type": "execute_result"
    }
   ],
   "source": [
    "search_query(\"J'ai trouvé une clé USB, que dois-je faire ?\")"
   ]
  },
  {
   "cell_type": "code",
   "execution_count": null,
   "id": "9c8feedc-2a50-4227-808f-3b375256d7d6",
   "metadata": {},
   "outputs": [],
   "source": []
  }
 ],
 "metadata": {
  "kernelspec": {
   "display_name": "Python 3 (ipykernel)",
   "language": "python",
   "name": "python3"
  },
  "language_info": {
   "codemirror_mode": {
    "name": "ipython",
    "version": 3
   },
   "file_extension": ".py",
   "mimetype": "text/x-python",
   "name": "python",
   "nbconvert_exporter": "python",
   "pygments_lexer": "ipython3",
   "version": "3.12.1"
  }
 },
 "nbformat": 4,
 "nbformat_minor": 5
}
